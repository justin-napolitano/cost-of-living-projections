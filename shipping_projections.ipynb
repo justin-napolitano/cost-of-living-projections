{
 "cells": [
  {
   "cell_type": "markdown",
   "metadata": {},
   "source": [
    "# A Monte Carlo Projection of the Annual Cost of Shipping Carbon from Europe to US Ports\n",
    "\n",
    "\n",
    "## Revision\n",
    "\n",
    "An earlier version of this report had reported values that were erroneously elevated by a decimal error in the meters to km conversion of distances between ports.  I apologize for unintentionally publishing misleading information.\n",
    "\n",
    "Situations like this one, are why I always publish with code.  Transparency is the key to rigor. \n",
    "\n",
    "\n",
    "## Introduction\n",
    "\n",
    "I produced an earlier [report](https://blog.jnapolitano.io/wells-near-ports/) that identified potential ports that may be suitable terminals for carbon imports into the United States for storage or industrial applications.  \n",
    "\n",
    "Following that report, I became interested in what could be the annual economic value of shipping CO2.  In this report, I analyze the results of a Monte Carlo simulation I developed in Python (documented at the end of this page) that projects the annual cost of shipping carbon across the Atlantic from Europe to the United States.\n",
    "\n",
    "\n",
    "## Methodology\n",
    "\n",
    "\n",
    "### Modeling Dynamic Variables\n",
    "To account for dynamic variables I designed a Monte Carlo simulation that randomly selected variables across normal distributions bounded by minima and maxima.\n",
    "\n",
    "The current simulation includes:\n",
    "* Variable shipping distances\n",
    "* Variable shipping capacity\n",
    "* Variable ports of origin\n",
    "* Variable terminal ports\n",
    "* Variable round trip shipping duration\n",
    "\n",
    "Fixed variables include:\n",
    "* Cost of Transport per ton (though this will be converted to a random distribution as soon as I find a better data source)\n",
    "\n",
    "\n",
    "### Modeling the Shipping Infrastructure\n",
    "\n",
    "\n",
    "#### Source \n",
    "Susanna Dorigoni, Luigi Mazzei, Federico Pontoni, and Antonio Sileo\n",
    "IEFE – Centre for Research on Energy and Environmental Economics and Policy,\n",
    "Università Bocconi, Milan, Italy\n",
    "\n",
    "\n",
    "#### Modeling the Capacity of Tankers\n",
    "\n",
    "To complete this analysis, I converted values found for lng shipping to super critical co2.  To do this,  I converted LNG capacties to super critical Co2 with the following conversion factors:\n",
    "* 1 tonne co2 super critical = 2.64812 meter cubed super critical co\n",
    "* 1 tonnes LNG = 2.21 m3 LNG (liquid) \n",
    "* 1 tonne co2 super critical = 544.66 m^3 gaseous\n",
    "\n",
    "\n",
    "The capacity range: \n",
    "* The lower bound of the distribution is 33358 cubic meteres\n",
    "* The upper bound is 175132\n",
    "* The median provided is 114723\n",
    "* The standard deviation is 5 (surprisingly homogeneous)\n",
    "\n",
    "\n",
    "#### Modeling the Number of Tankers\n",
    "\n",
    "\n",
    "The number of tankers in the Atlantic basin dedicated to LNG transort recorded in 2008 was 63.  I calculated a rough estimate of 25 percent of these being used to transport carbon annually.  A better source is needed to accurately model.  If ships are used to transport both lng and carbon a random distribution designed according to a CO2 carrying probability distribution would suitably model the data.  \n",
    "\n",
    "A total of 15 tankers were modeled in this example.  "
   ]
  },
  {
   "cell_type": "markdown",
   "metadata": {},
   "source": [
    "## Findings\n",
    "\n",
    "Carbon capture is likely a billion dollar industry at scale.  \n",
    "\n",
    "Across 500 iterations of modeling we see about $57.7 million dollars worth of economic activity annualy.\n",
    "\n",
    "\n"
   ]
  },
  {
   "cell_type": "markdown",
   "metadata": {},
   "source": [
    "### The Take Away\n",
    "\n",
    "The Carbon capture and storage economiy is likely a billion dollar economy at scale.  In just reviewing shipping super critical CO2 from Europe to the United States, a $57.7 million USD annual industry could develop as nations move towards a net carbon zero economy. "
   ]
  },
  {
   "cell_type": "markdown",
   "metadata": {},
   "source": [
    "## Limitations of the Model \n",
    "\n",
    "The model as it is presented in this report is unconstrained.  A more accurate portrayal of what would be possible with current systems in place could be designed with better data.  It is also important to note that I have not included incentives into the model.  It is entirely possible that government subsidies could prove the carbon shipping industry to be more expansive than presented here."
   ]
  },
  {
   "cell_type": "markdown",
   "metadata": {},
   "source": [
    "## Data Analysis"
   ]
  },
  {
   "cell_type": "code",
   "execution_count": 22,
   "metadata": {},
   "outputs": [
    {
     "data": {
      "text/html": [
       "<div>\n",
       "<style scoped>\n",
       "    .dataframe tbody tr th:only-of-type {\n",
       "        vertical-align: middle;\n",
       "    }\n",
       "\n",
       "    .dataframe tbody tr th {\n",
       "        vertical-align: top;\n",
       "    }\n",
       "\n",
       "    .dataframe thead th {\n",
       "        text-align: right;\n",
       "    }\n",
       "</style>\n",
       "<table border=\"1\" class=\"dataframe\">\n",
       "  <thead>\n",
       "    <tr style=\"text-align: right;\">\n",
       "      <th></th>\n",
       "      <th>cost_in_usd</th>\n",
       "      <th>cost_in_usd_billions</th>\n",
       "    </tr>\n",
       "  </thead>\n",
       "  <tbody>\n",
       "    <tr>\n",
       "      <th>count</th>\n",
       "      <td>5.000000e+02</td>\n",
       "      <td>5.000000e+02</td>\n",
       "    </tr>\n",
       "    <tr>\n",
       "      <th>mean</th>\n",
       "      <td>5.744345e+07</td>\n",
       "      <td>5.744345e+07</td>\n",
       "    </tr>\n",
       "    <tr>\n",
       "      <th>std</th>\n",
       "      <td>1.191639e+06</td>\n",
       "      <td>1.191639e+06</td>\n",
       "    </tr>\n",
       "    <tr>\n",
       "      <th>min</th>\n",
       "      <td>5.351741e+07</td>\n",
       "      <td>5.351741e+07</td>\n",
       "    </tr>\n",
       "    <tr>\n",
       "      <th>25%</th>\n",
       "      <td>5.663254e+07</td>\n",
       "      <td>5.663254e+07</td>\n",
       "    </tr>\n",
       "    <tr>\n",
       "      <th>50%</th>\n",
       "      <td>5.740286e+07</td>\n",
       "      <td>5.740286e+07</td>\n",
       "    </tr>\n",
       "    <tr>\n",
       "      <th>75%</th>\n",
       "      <td>5.827798e+07</td>\n",
       "      <td>5.827798e+07</td>\n",
       "    </tr>\n",
       "    <tr>\n",
       "      <th>max</th>\n",
       "      <td>6.081661e+07</td>\n",
       "      <td>6.081661e+07</td>\n",
       "    </tr>\n",
       "  </tbody>\n",
       "</table>\n",
       "</div>"
      ],
      "text/plain": [
       "        cost_in_usd  cost_in_usd_billions\n",
       "count  5.000000e+02          5.000000e+02\n",
       "mean   5.744345e+07          5.744345e+07\n",
       "std    1.191639e+06          1.191639e+06\n",
       "min    5.351741e+07          5.351741e+07\n",
       "25%    5.663254e+07          5.663254e+07\n",
       "50%    5.740286e+07          5.740286e+07\n",
       "75%    5.827798e+07          5.827798e+07\n",
       "max    6.081661e+07          6.081661e+07"
      ]
     },
     "execution_count": 22,
     "metadata": {},
     "output_type": "execute_result"
    }
   ],
   "source": [
    "annual_price_samples_df.describe()"
   ]
  },
  {
   "cell_type": "markdown",
   "metadata": {},
   "source": [
    "## Calculating the Confidence Interval\n",
    "\n",
    "The data is nearly normal.  I could test for normality, but that would be beyond the scope of this analysis.  Also, by design the Monte Carlo model should produce a normal distribution with sufficient samples.  "
   ]
  },
  {
   "cell_type": "code",
   "execution_count": 23,
   "metadata": {},
   "outputs": [
    {
     "data": {
      "text/plain": [
       "(57355794.336350285, 57531108.50357006)"
      ]
     },
     "execution_count": 23,
     "metadata": {},
     "output_type": "execute_result"
    }
   ],
   "source": [
    "\n",
    "st.norm.interval(alpha=0.90, loc=np.mean(annual_price_samples_df['cost_in_usd']), scale=st.sem(annual_price_samples_df['cost_in_usd']))"
   ]
  },
  {
   "cell_type": "markdown",
   "metadata": {},
   "source": [
    "It is safe to assume that 90 percent of the time we would see an annual cost of $57,355,794 to $57,531,109 USD with the assumptions of the model taken into account.  "
   ]
  },
  {
   "cell_type": "markdown",
   "metadata": {},
   "source": [
    "### Monte Carlo Histogram"
   ]
  },
  {
   "cell_type": "code",
   "execution_count": 24,
   "metadata": {},
   "outputs": [
    {
     "data": {
      "image/png": "[encoded data removed]",
      "text/plain": [
       "<Figure size 432x288 with 1 Axes>"
      ]
     },
     "metadata": {
      "needs_background": "light"
     },
     "output_type": "display_data"
    }
   ],
   "source": [
    "annual_price_samples_df.plot.hist(grid=True, bins=20, rwidth=0.9,\n",
    "                   color='#607c8e')\n",
    "plt.title('Annual Price Distribution for Shipping Carbon')\n",
    "plt.xlabel('Annual Price in Billions USD')\n",
    "plt.ylabel('Frequency')\n",
    "plt.grid(axis='y', alpha=0.75)"
   ]
  },
  {
   "cell_type": "markdown",
   "metadata": {},
   "source": [
    "## Data Imports and Manipulation\n",
    "\n",
    "### The Shipping Dataframe\n",
    "\n",
    "The shipping dataframe is the basis of the simulation.  It is used to tabulate total cost and to record the values of variables.\n",
    "\n",
    "#### Capacity Distribution and Number of Ships Calculation"
   ]
  },
  {
   "cell_type": "code",
   "execution_count": 3,
   "metadata": {},
   "outputs": [],
   "source": [
    "# Capacity range\n",
    "# 40,000 m3 71,500 to 210,000\n",
    "\n",
    "#Susanna Dorigoni, Luigi Mazzei, Federico Pontoni, and Antonio Sileo\n",
    "#IEFE – Centre for Research on Energy and Environmental Economics and Policy,\n",
    "#Università Bocconi, Milan, Italy\n",
    "\n",
    "# I'm sure a better report is available but this is a start\n",
    "# cubic meters unit\n",
    "\n",
    "### a rough estimate of global suplly dedicated to co2 shipping\n",
    "\n",
    "# I will probably need a better metric but this is a good start that can be modified later when necessary\n",
    "\n",
    "ships = int(63*.25)\n",
    "ships\n",
    "\n",
    "\n",
    "conversion_factor = 2.21/2.65\n",
    "conversion_factor\n",
    "\n",
    "lower_bound = int(40000 * conversion_factor)\n",
    "upper_bound = int(210000 * conversion_factor)\n",
    "\n",
    "median = 137564 * conversion_factor\n",
    "standard_dev = 6.63 * conversion_factor  #file:///Users/jnapolitano/Downloads/LNG_Shipping_a_Descriptive_Analysis.pdf\n",
    "\n",
    "cap_range = range(lower_bound, upper_bound)\n",
    "\n",
    "cap_distribution = np.random.normal(loc=median , scale=standard_dev, size=ships)\n",
    "\n"
   ]
  },
  {
   "cell_type": "markdown",
   "metadata": {},
   "source": [
    "#### The Shipping Df"
   ]
  },
  {
   "cell_type": "code",
   "execution_count": 4,
   "metadata": {},
   "outputs": [
    {
     "data": {
      "text/html": [
       "<div>\n",
       "<style scoped>\n",
       "    .dataframe tbody tr th:only-of-type {\n",
       "        vertical-align: middle;\n",
       "    }\n",
       "\n",
       "    .dataframe tbody tr th {\n",
       "        vertical-align: top;\n",
       "    }\n",
       "\n",
       "    .dataframe thead th {\n",
       "        text-align: right;\n",
       "    }\n",
       "</style>\n",
       "<table border=\"1\" class=\"dataframe\">\n",
       "  <thead>\n",
       "    <tr style=\"text-align: right;\">\n",
       "      <th></th>\n",
       "      <th>co2_capacity_cubic_meters</th>\n",
       "      <th>days_to_port</th>\n",
       "      <th>europe_port</th>\n",
       "      <th>us_port</th>\n",
       "      <th>distance</th>\n",
       "      <th>price</th>\n",
       "      <th>cost_per_day</th>\n",
       "      <th>co2_capacity_tonnes</th>\n",
       "    </tr>\n",
       "  </thead>\n",
       "  <tbody>\n",
       "    <tr>\n",
       "      <th>0</th>\n",
       "      <td>114719.277384</td>\n",
       "      <td>0</td>\n",
       "      <td></td>\n",
       "      <td></td>\n",
       "      <td></td>\n",
       "      <td>0</td>\n",
       "      <td>0</td>\n",
       "      <td>210.625486</td>\n",
       "    </tr>\n",
       "    <tr>\n",
       "      <th>1</th>\n",
       "      <td>114719.302198</td>\n",
       "      <td>0</td>\n",
       "      <td></td>\n",
       "      <td></td>\n",
       "      <td></td>\n",
       "      <td>0</td>\n",
       "      <td>0</td>\n",
       "      <td>210.625532</td>\n",
       "    </tr>\n",
       "    <tr>\n",
       "      <th>2</th>\n",
       "      <td>114717.986907</td>\n",
       "      <td>0</td>\n",
       "      <td></td>\n",
       "      <td></td>\n",
       "      <td></td>\n",
       "      <td>0</td>\n",
       "      <td>0</td>\n",
       "      <td>210.623117</td>\n",
       "    </tr>\n",
       "    <tr>\n",
       "      <th>3</th>\n",
       "      <td>114720.952261</td>\n",
       "      <td>0</td>\n",
       "      <td></td>\n",
       "      <td></td>\n",
       "      <td></td>\n",
       "      <td>0</td>\n",
       "      <td>0</td>\n",
       "      <td>210.628561</td>\n",
       "    </tr>\n",
       "    <tr>\n",
       "      <th>4</th>\n",
       "      <td>114720.134738</td>\n",
       "      <td>0</td>\n",
       "      <td></td>\n",
       "      <td></td>\n",
       "      <td></td>\n",
       "      <td>0</td>\n",
       "      <td>0</td>\n",
       "      <td>210.627060</td>\n",
       "    </tr>\n",
       "    <tr>\n",
       "      <th>5</th>\n",
       "      <td>114727.030286</td>\n",
       "      <td>0</td>\n",
       "      <td></td>\n",
       "      <td></td>\n",
       "      <td></td>\n",
       "      <td>0</td>\n",
       "      <td>0</td>\n",
       "      <td>210.639721</td>\n",
       "    </tr>\n",
       "    <tr>\n",
       "      <th>6</th>\n",
       "      <td>114721.222398</td>\n",
       "      <td>0</td>\n",
       "      <td></td>\n",
       "      <td></td>\n",
       "      <td></td>\n",
       "      <td>0</td>\n",
       "      <td>0</td>\n",
       "      <td>210.629057</td>\n",
       "    </tr>\n",
       "    <tr>\n",
       "      <th>7</th>\n",
       "      <td>114724.259547</td>\n",
       "      <td>0</td>\n",
       "      <td></td>\n",
       "      <td></td>\n",
       "      <td></td>\n",
       "      <td>0</td>\n",
       "      <td>0</td>\n",
       "      <td>210.634634</td>\n",
       "    </tr>\n",
       "    <tr>\n",
       "      <th>8</th>\n",
       "      <td>114729.358745</td>\n",
       "      <td>0</td>\n",
       "      <td></td>\n",
       "      <td></td>\n",
       "      <td></td>\n",
       "      <td>0</td>\n",
       "      <td>0</td>\n",
       "      <td>210.643996</td>\n",
       "    </tr>\n",
       "    <tr>\n",
       "      <th>9</th>\n",
       "      <td>114727.005543</td>\n",
       "      <td>0</td>\n",
       "      <td></td>\n",
       "      <td></td>\n",
       "      <td></td>\n",
       "      <td>0</td>\n",
       "      <td>0</td>\n",
       "      <td>210.639675</td>\n",
       "    </tr>\n",
       "    <tr>\n",
       "      <th>10</th>\n",
       "      <td>114722.946362</td>\n",
       "      <td>0</td>\n",
       "      <td></td>\n",
       "      <td></td>\n",
       "      <td></td>\n",
       "      <td>0</td>\n",
       "      <td>0</td>\n",
       "      <td>210.632223</td>\n",
       "    </tr>\n",
       "    <tr>\n",
       "      <th>11</th>\n",
       "      <td>114726.394450</td>\n",
       "      <td>0</td>\n",
       "      <td></td>\n",
       "      <td></td>\n",
       "      <td></td>\n",
       "      <td>0</td>\n",
       "      <td>0</td>\n",
       "      <td>210.638553</td>\n",
       "    </tr>\n",
       "    <tr>\n",
       "      <th>12</th>\n",
       "      <td>114720.412603</td>\n",
       "      <td>0</td>\n",
       "      <td></td>\n",
       "      <td></td>\n",
       "      <td></td>\n",
       "      <td>0</td>\n",
       "      <td>0</td>\n",
       "      <td>210.627571</td>\n",
       "    </tr>\n",
       "    <tr>\n",
       "      <th>13</th>\n",
       "      <td>114726.647417</td>\n",
       "      <td>0</td>\n",
       "      <td></td>\n",
       "      <td></td>\n",
       "      <td></td>\n",
       "      <td>0</td>\n",
       "      <td>0</td>\n",
       "      <td>210.639018</td>\n",
       "    </tr>\n",
       "    <tr>\n",
       "      <th>14</th>\n",
       "      <td>114717.266732</td>\n",
       "      <td>0</td>\n",
       "      <td></td>\n",
       "      <td></td>\n",
       "      <td></td>\n",
       "      <td>0</td>\n",
       "      <td>0</td>\n",
       "      <td>210.621795</td>\n",
       "    </tr>\n",
       "  </tbody>\n",
       "</table>\n",
       "</div>"
      ],
      "text/plain": [
       "    co2_capacity_cubic_meters  days_to_port europe_port us_port distance  \\\n",
       "0               114719.277384             0                                \n",
       "1               114719.302198             0                                \n",
       "2               114717.986907             0                                \n",
       "3               114720.952261             0                                \n",
       "4               114720.134738             0                                \n",
       "5               114727.030286             0                                \n",
       "6               114721.222398             0                                \n",
       "7               114724.259547             0                                \n",
       "8               114729.358745             0                                \n",
       "9               114727.005543             0                                \n",
       "10              114722.946362             0                                \n",
       "11              114726.394450             0                                \n",
       "12              114720.412603             0                                \n",
       "13              114726.647417             0                                \n",
       "14              114717.266732             0                                \n",
       "\n",
       "    price  cost_per_day  co2_capacity_tonnes  \n",
       "0       0             0           210.625486  \n",
       "1       0             0           210.625532  \n",
       "2       0             0           210.623117  \n",
       "3       0             0           210.628561  \n",
       "4       0             0           210.627060  \n",
       "5       0             0           210.639721  \n",
       "6       0             0           210.629057  \n",
       "7       0             0           210.634634  \n",
       "8       0             0           210.643996  \n",
       "9       0             0           210.639675  \n",
       "10      0             0           210.632223  \n",
       "11      0             0           210.638553  \n",
       "12      0             0           210.627571  \n",
       "13      0             0           210.639018  \n",
       "14      0             0           210.621795  "
      ]
     },
     "execution_count": 4,
     "metadata": {},
     "output_type": "execute_result"
    }
   ],
   "source": [
    "shipping_df = pd.DataFrame(cap_distribution, columns=['co2_capacity_cubic_meters'])\n",
    "shipping_df['days_to_port'] = 0\n",
    "shipping_df['europe_port'] = ''\n",
    "shipping_df[\"us_port\"] =''\n",
    "shipping_df['distance'] =''\n",
    "shipping_df['price'] = 0\n",
    "shipping_df['cost_per_day'] = 0\n",
    "shipping_df['co2_capacity_tonnes'] = shipping_df['co2_capacity_cubic_meters']/544.66 ## Verify this factor.  It seems to high\n",
    "shipping_df"
   ]
  },
  {
   "cell_type": "markdown",
   "metadata": {},
   "source": [
    "### The European Ports Df"
   ]
  },
  {
   "cell_type": "code",
   "execution_count": 5,
   "metadata": {},
   "outputs": [],
   "source": [
    "\n",
    "gisfilepath = \"/Users/jnapolitano/Projects/data/energy/PORT_2013_SH/Data/PORT_PT_2013.shp\"\n",
    "\n",
    "\n",
    "ports_df = gpd.read_file(gisfilepath)\n",
    "\n",
    "ports_df = ports_df.to_crs(epsg=3857)"
   ]
  },
  {
   "cell_type": "markdown",
   "metadata": {},
   "source": [
    "### Filtered Wells DataFrame"
   ]
  },
  {
   "cell_type": "code",
   "execution_count": 6,
   "metadata": {},
   "outputs": [],
   "source": [
    "## Importing our DataFrames\n",
    "\n",
    "gisfilepath = \"/Users/jnapolitano/Projects/data/energy/filtered-wells.geojson\"\n",
    "\n",
    "\n",
    "filtered_df = gpd.read_file(gisfilepath)\n",
    "\n",
    "filtered_df = filtered_df.to_crs(epsg=3857)\n",
    "\n"
   ]
  },
  {
   "cell_type": "markdown",
   "metadata": {},
   "source": [
    "#### Getting Map Conditions for Us Port Filtering\n"
   ]
  },
  {
   "cell_type": "code",
   "execution_count": 7,
   "metadata": {},
   "outputs": [],
   "source": [
    "map_conditions = filtered_df.TERMID.unique().tolist()"
   ]
  },
  {
   "cell_type": "markdown",
   "metadata": {},
   "source": [
    "### US Ports Dataframes"
   ]
  },
  {
   "cell_type": "code",
   "execution_count": 8,
   "metadata": {},
   "outputs": [],
   "source": [
    "## Importing our DataFrames\n",
    "\n",
    "gisfilepath = \"/Users/jnapolitano/Projects/data/energy/Liquified_Natural_Gas_Import_Exports_and_Terminals.geojson\"\n",
    "\n",
    "\n",
    "terminal_df = gpd.read_file(gisfilepath)\n",
    "\n",
    "terminal_df = terminal_df.to_crs(epsg=3857)\n",
    "\n"
   ]
  },
  {
   "cell_type": "code",
   "execution_count": 9,
   "metadata": {},
   "outputs": [],
   "source": [
    "terminal_df.drop(terminal_df[terminal_df['STATUS'] == 'SUSPENDED'].index, inplace = True)\n",
    "terminal_df.rename(columns={\"NAME\": \"TERMINAL_NAME\"})\n",
    "terminal_df['TERMINAL_GEO'] = terminal_df['geometry'].copy()\n"
   ]
  },
  {
   "cell_type": "code",
   "execution_count": 10,
   "metadata": {},
   "outputs": [],
   "source": [
    "port_terminals_df = terminal_df.query('TERMID in @map_conditions').copy()\n",
    "port_terminals_df['co2_capacity_mmta'] = port_terminals_df['CURRENTCAP'] * conversion_factor\n",
    "port_terminals_df['co2_capacity_metric_tons'] = port_terminals_df['co2_capacity_mmta'] * 1000000\n",
    "port_terminals_df['available'] = True"
   ]
  },
  {
   "cell_type": "markdown",
   "metadata": {},
   "source": [
    "## Random Distribution, Distance and Pricing Functions "
   ]
  },
  {
   "cell_type": "markdown",
   "metadata": {},
   "source": [
    "### Accounting for Random Days at Sea\n",
    "\n",
    "As days at sea is variable I created a range between 20 and 40 days to account for a round trip to every major port in Europe.  "
   ]
  },
  {
   "cell_type": "code",
   "execution_count": 11,
   "metadata": {},
   "outputs": [],
   "source": [
    "\n",
    "def random_day():\n",
    "    lower_bound = 20\n",
    "    upper_bound = 40\n",
    "\n",
    "    median = 30\n",
    "    standard_dev = 2\n",
    "\n",
    "    days_range = range(lower_bound, upper_bound)\n",
    "\n",
    "    days_distribution = np.random.normal(loc=median , scale=standard_dev, size=ships)\n",
    "\n",
    "\n",
    "    days_randomized = np.random.choice(days_distribution, size=1)\n",
    "\n",
    "\n",
    "    return (days_randomized[0].astype(np.int64))\n"
   ]
  },
  {
   "cell_type": "markdown",
   "metadata": {},
   "source": [
    "### Accounting for Random European Ports\n",
    "\n",
    " I randomized the port selection process with the following function.  The data provided by EuroStat did not filter according to type of port.  Nonetheless, the distance recorded should be very similiar to those of actual LNG ports.  A better data set could be substituded directly into the function."
   ]
  },
  {
   "cell_type": "code",
   "execution_count": 12,
   "metadata": {},
   "outputs": [],
   "source": [
    "\n",
    "def random_europe_port():\n",
    "    #select a random number along the index of the ports df.  Return the value of hte geometry at the index.  \n",
    "    #select indices from the dataframe that are valid.  ie capacity has not yet been met.  \n",
    "    ports_randomized = np.random.choice(ports_df.index, size=1)\n",
    "    index_location = ports_randomized[0]\n",
    "    return ports_df.geometry[index_location]\n"
   ]
  },
  {
   "cell_type": "markdown",
   "metadata": {},
   "source": [
    "### Accounting for Random US Ports\n",
    "\n",
    "I was able to filter import/export ports in the United States in to a dataset of about 15.  Like the European dataset, I randomized selection."
   ]
  },
  {
   "cell_type": "code",
   "execution_count": 13,
   "metadata": {},
   "outputs": [],
   "source": [
    "\n",
    "def random_us_port():\n",
    "    #select a random number along the index of the ports df.  Return the value of hte geometry at the index.  \n",
    "\n",
    "    ports_randomized = np.random.choice(port_terminals_df.index, size=1)\n",
    "    index_location = ports_randomized[0]\n",
    "    return port_terminals_df.geometry[index_location]\n"
   ]
  },
  {
   "cell_type": "markdown",
   "metadata": {},
   "source": [
    "### Calculating Distance Between Ports\n",
    "\n",
    "I calculated the shortest distance between ports based on their geographic locations with the shapley.distance function.  It returns distance in meters.  I divide by 1000 to convert into Km.   The algorithm could be improved by using official shipping data to randomize a distribution of distances between ports.  Unfortunately, I do not have that data available to me. "
   ]
  },
  {
   "cell_type": "code",
   "execution_count": 14,
   "metadata": {},
   "outputs": [],
   "source": [
    "\n",
    "def geo_distance(dist1,dist2):\n",
    "    # return distance in km\n",
    "    distance = dist1.distance(dist2)/1000\n",
    "    return(distance)\n"
   ]
  },
  {
   "cell_type": "markdown",
   "metadata": {},
   "source": [
    "### Calculating Price of Transport\n",
    "\n",
    "\n",
    "The cost of transport accounts for port fees, liquification, and transport.   Unfortunately, my data is from a paper published in 2004.  I would like to find a more recent paper.   I did not convert the value of 2004 USD to 2022 because I am not sure of the validity of the conversion factors available online.  I would need a better source to correctly model the true cost of transport.  \n",
    "\n",
    "[source](https://ieaghg.org/docs/General_Docs/Reports/PH4-30%20Ship%20Transport.pdf)"
   ]
  },
  {
   "cell_type": "code",
   "execution_count": 15,
   "metadata": {},
   "outputs": [],
   "source": [
    "\n",
    "def price_to_transport(distance,tonnes):\n",
    "    price = (distance/100) * 12 * tonnes\n",
    "    return price\n"
   ]
  },
  {
   "cell_type": "markdown",
   "metadata": {},
   "source": [
    "### Calculating Cost Per Day"
   ]
  },
  {
   "cell_type": "code",
   "execution_count": 16,
   "metadata": {},
   "outputs": [],
   "source": [
    "def cost_per_day(price,distance):\n",
    "    return price/distance"
   ]
  },
  {
   "cell_type": "markdown",
   "metadata": {},
   "source": [
    "## Costs Per Annum Algorithm"
   ]
  },
  {
   "cell_type": "markdown",
   "metadata": {},
   "source": [
    "The algorithm I used calculates the daily status of ships transporting CO2 across the Atlantic from a random European port to a random port in the United States.  It will run for 365 iterations or until the total carbon capacity of the US ports is reached.  This value could and probably should be dynamically allocated via a similiar algorithm, but I do not yet have historical probability distributions of carbon imports to determime a valid price allocation function.  \n",
    "\n",
    "When the daily counter reaches zero for a tanker:\n",
    "* The capacity is refilled to full.\n",
    "* A random us port is assigned.\n",
    "* A random European port is assigned.\n",
    "* The distance between ports is calculated.\n",
    "* The cost of transport over that distance is calculated per 100 km.\n",
    "* The total shipping price of that cycle is tabulated.\n",
    "* The total tonnage of that cycle is tabulated.\n",
    "\n",
    "\n"
   ]
  },
  {
   "cell_type": "code",
   "execution_count": 17,
   "metadata": {},
   "outputs": [
    {
     "name": "stdout",
     "output_type": "stream",
     "text": [
      "365\n",
      "41073.187985943456\n",
      "60039059.413350895\n",
      "308098.2720296601\n"
     ]
    }
   ],
   "source": [
    "\n",
    "days = 365\n",
    "day_counter = 0 \n",
    "carbon_total_millions_metric_tons = 300000000\n",
    "total_tons_shipped = 0\n",
    "total_price = 0\n",
    "cycle_mean_price_samples = np.zeros(shape=days)\n",
    "\n",
    "#deduction = capacity of empty ships\n",
    "for day in range(days):\n",
    "    if carbon_total_millions_metric_tons >= 0:\n",
    "        # must use apply to account for multiple 0 conditions.  If i simply vectorized the function across the dataframe in a single call i would assign the the same values each day \n",
    "        shipping_df['days_to_port'] = shipping_df['days_to_port'] - 1\n",
    "        shipping_df['us_port'] = shipping_df.apply(lambda x:  random_us_port() if x['days_to_port']<=0 else x['us_port'], axis=1)\n",
    "        shipping_df['europe_port'] = shipping_df.apply(lambda x:  random_europe_port() if x['days_to_port']<=0 else x['europe_port'], axis=1)\n",
    "        shipping_df['distance'] = shipping_df.apply(lambda x:  geo_distance(x['us_port'], x['europe_port']) if x['days_to_port']<=0 else x['distance'], axis=1)\n",
    "        shipping_df['price'] = shipping_df.apply(lambda x:  price_to_transport(x['distance'],x['co2_capacity_tonnes']) if x['days_to_port']<=0 else x['price'], axis=1)\n",
    "        #calculate cost per day for fun...\n",
    "        # query all that are = o.  Summate the capacities deduct the total \n",
    "        tmp_df=shipping_df.loc[shipping_df['days_to_port'] <= 0]\n",
    "        sum_of_capacity = tmp_df['co2_capacity_tonnes'].sum()\n",
    "        sum_of_price = tmp_df['price'].sum()\n",
    "        mean_of_price = tmp_df['price'].mean()\n",
    "        cycle_mean_price_samples[day] = mean_of_price\n",
    "        shipping_df['days_to_port'] = shipping_df['days_to_port'].apply(lambda x: random_day() if x<=0 else x)\n",
    "        total_tons_shipped = total_tons_shipped + sum_of_capacity\n",
    "        total_price = total_price + sum_of_price\n",
    "        carbon_total_millions_metric_tons = carbon_total_millions_metric_tons - sum_of_capacity\n",
    "        #print(carbon_total_millions_metric_tons)\n",
    "        day_counter = day_counter+1\n",
    "    else: \n",
    "        break\n",
    "\n",
    "    \n",
    "    \n",
    "print(day_counter)\n",
    "print(total_tons_shipped)\n",
    "print(total_price)\n",
    "#Drop the nan, ie empty samples\n",
    "cycle_mean_price = cycle_mean_price_samples[np.logical_not(np.isnan(cycle_mean_price_samples))]\n",
    "#Calculate mean price of filling a ship (around a billion according to the data i have if filled to capacity.  Ridiculous.)\n",
    "cycle_mean_price = cycle_mean_price.mean()\n",
    "print(cycle_mean_price)\n"
   ]
  },
  {
   "cell_type": "markdown",
   "metadata": {},
   "source": [
    "## Monte Carlo Simulation with 500 iterations\n",
    "\n",
    "The annual rate of shipping can be variable according to shifting dynamics. I account for that by modeling the per annum algorithm 500 times.  Modeling would improve as n increases, but for the sake of time I limited the computation to 500 iterations\n",
    "\n",
    "The only difference between this algorithm and the previous one is an extra for loop.  The algorithmic efficiency is surprisingly good as the I was able to vectorize tabulations with lambda functions across the dataframes.  On my laptop, I was able to complete the algorithm in about 16 minutes of run time.\n",
    "\n"
   ]
  },
  {
   "cell_type": "code",
   "execution_count": 19,
   "metadata": {},
   "outputs": [],
   "source": [
    "\n",
    "nsamples = 500\n",
    "price_samples = np.zeros(shape=nsamples)\n",
    "cycle_mean_price_annual_samples = np.zeros(shape=nsamples)\n",
    "\n",
    "for sample in range(nsamples):\n",
    "\n",
    "    days = 365\n",
    "    day_counter = 0 \n",
    "    carbon_total_millions_metric_tons = 300000000 # could randomize.  Need a probability distribution based on historial data. \n",
    "    total_tons_shipped = 0\n",
    "    total_price = 0\n",
    "    cycle_mean_price_daily_samples = np.zeros(shape=days)\n",
    "\n",
    "\n",
    "    #deduction = capacity of empty ships\n",
    "    for day in range(days):\n",
    "        if carbon_total_millions_metric_tons >= 0:\n",
    "            # must use apply to account for multiple 0 conditions.  If i simply vectorized the function across the dataframe in a single call i would assign the the same values each day \n",
    "            shipping_df['days_to_port'] = shipping_df['days_to_port'] - 1\n",
    "            shipping_df['us_port'] = shipping_df.apply(lambda x:  random_us_port() if x['days_to_port']<=0 else x['us_port'], axis=1)\n",
    "            shipping_df['europe_port'] = shipping_df.apply(lambda x:  random_europe_port() if x['days_to_port']<=0 else x['europe_port'], axis=1)\n",
    "            shipping_df['distance'] = shipping_df.apply(lambda x:  geo_distance(x['us_port'], x['europe_port']) if x['days_to_port']<=0 else x['distance'], axis=1)\n",
    "            shipping_df['price'] = shipping_df.apply(lambda x:  price_to_transport(x['distance'], x['co2_capacity_tonnes']) if x['days_to_port']<=0 else x['price'], axis=1)\n",
    "            # query all that are = o.  Summate the capacities deduct the total \n",
    "            tmp_df=shipping_df.loc[shipping_df['days_to_port'] == 0]\n",
    "            sum_of_capacity = tmp_df['co2_capacity_tonnes'].sum()\n",
    "            sum_of_price = tmp_df['price'].sum()\n",
    "            mean_of_price = tmp_df['price'].mean()\n",
    "            cycle_mean_price_daily_samples[day] = mean_of_price\n",
    "            shipping_df['days_to_port'] = shipping_df['days_to_port'].apply(lambda x: random_day() if x<=0 else x)\n",
    "            total_tons_shipped = total_tons_shipped + sum_of_capacity\n",
    "            total_price = total_price + sum_of_price\n",
    "            carbon_total_millions_metric_tons = carbon_total_millions_metric_tons - sum_of_capacity\n",
    "            #print(carbon_total_millions_metric_tons)\n",
    "            day_counter = day_counter+1\n",
    "        else: \n",
    "            break\n",
    "\n",
    "    #Drop the nan, ie empty samples\n",
    "    cycle_mean_price = cycle_mean_price_samples[np.logical_not(np.isnan(cycle_mean_price_samples))]\n",
    "    #Calculate mean price of filling a ship (around a billion according to the data i have if filled to capacity.  Ridiculous.)\n",
    "    cycle_mean_price = cycle_mean_price.mean()\n",
    "    cycle_mean_price_annual_samples[sample] =cycle_mean_price\n",
    "        \n",
    "    \n",
    "\n",
    "    price_samples[sample] = total_price\n",
    "\n",
    "        \n"
   ]
  },
  {
   "cell_type": "markdown",
   "metadata": {},
   "source": [
    "### Creating the Annual Price Samples DF"
   ]
  },
  {
   "cell_type": "code",
   "execution_count": 20,
   "metadata": {},
   "outputs": [],
   "source": [
    "annual_price_samples_df = pd.DataFrame(price_samples, columns=['cost_in_usd'])"
   ]
  },
  {
   "cell_type": "code",
   "execution_count": 21,
   "metadata": {},
   "outputs": [],
   "source": [
    "annual_price_samples_df['cost_in_usd_billions'] = annual_price_samples_df.cost_in_usd "
   ]
  },
  {
   "cell_type": "markdown",
   "metadata": {},
   "source": [
    "## Imports"
   ]
  },
  {
   "cell_type": "code",
   "execution_count": 2,
   "metadata": {},
   "outputs": [
    {
     "name": "stderr",
     "output_type": "stream",
     "text": [
      "/Users/jnapolitano/venvs/finance/lib/python3.9/site-packages/geopandas/_compat.py:111: UserWarning: The Shapely GEOS version (3.10.2-CAPI-1.16.0) is incompatible with the GEOS version PyGEOS was compiled with (3.10.1-CAPI-1.16.0). Conversions between both will be slow.\n",
      "  warnings.warn(\n"
     ]
    }
   ],
   "source": [
    "import pandas as pd\n",
    "import matplotlib.pyplot as plt\n",
    "import geopandas as gpd\n",
    "import folium\n",
    "import contextily as cx\n",
    "import rtree\n",
    "from zlib import crc32\n",
    "import hashlib\n",
    "from shapely.geometry import Point, LineString, Polygon\n",
    "import numpy as np\n",
    "from scipy.spatial import cKDTree\n",
    "import scipy.stats as st\n",
    "from shapely.geometry import Point\n",
    "from haversine import Unit\n",
    "from geopy.distance import distance\n",
    "\n",
    "import warnings\n",
    "\n",
    "warnings.filterwarnings('ignore')\n"
   ]
  },
  {
   "cell_type": "code",
   "execution_count": null,
   "metadata": {},
   "outputs": [],
   "source": []
  }
 ],
 "metadata": {
  "kernelspec": {
   "display_name": "finance",
   "language": "python",
   "name": "finance"
  },
  "language_info": {
   "codemirror_mode": {
    "name": "ipython",
    "version": 3
   },
   "file_extension": ".py",
   "mimetype": "text/x-python",
   "name": "python",
   "nbconvert_exporter": "python",
   "pygments_lexer": "ipython3",
   "version": "3.9.12"
  },
  "orig_nbformat": 4
 },
 "nbformat": 4,
 "nbformat_minor": 2
}
