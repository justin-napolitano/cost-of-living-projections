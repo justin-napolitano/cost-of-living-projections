{
 "cells": [
  {
   "cell_type": "markdown",
   "metadata": {},
   "source": [
    "# Cost of Living Projectios\n",
    "\n",
    "\n",
    "## Introduction\n",
    "\n",
    "I do not like negotiating for salary.  I like  to be transparent.  \n",
    "\n",
    "I prepared this report to justify salary demands.  \n",
    "\n",
    "It contains two Monte Carlo models of Houston and NYC annual living costs.  The data is somewhat dated and --particularly in the case of houston-- are high level estimates. \n",
    "\n",
    "In order to produce a better report, I am currently scraping data from the internet for more accurate sample distributions.  I will be able to present that soon.\n"
   ]
  },
  {
   "cell_type": "markdown",
   "metadata": {},
   "source": [
    "## Findings\n",
    "\n",
    "An annual salary of $90,000 would be sufficient to qualify for rent in Houston and most likely the median level income neighbors of NYC.  \n",
    "\n",
    "I came about this number by quantifying a confidence inverval of annual rent costs in boths cities across a normal distribution.  I then simply multiplied that number by 3 to meet the lease qualifications of most landlords.  \n",
    "\n",
    "\n",
    "## Limitations of the Model\n",
    "\n",
    "### Old Nyc Data\n",
    "\n",
    "The data I am using was sourced from 2018.   I will be updating it soon.  \n",
    "\n",
    "### Houston Data \n",
    "\n",
    "The houston estimate is based an estimate to stay in the property I am currently staying in.  The rent is 2400 a month.  I estimated that it could raise at maximum to about 2600 in the next year.  If I were to move similiar housing goes for around 2200 to about 2600 a month. I used these as the bounds of my estimates\n"
   ]
  },
  {
   "cell_type": "markdown",
   "metadata": {},
   "source": [
    "## Houston Cost of Living Expenses\n",
    "\n",
    "I intend to stay in Houston for the next year.  I would like to move to NY eventually to be nearer to a central office, but not in the near future.  "
   ]
  },
  {
   "cell_type": "code",
   "execution_count": 118,
   "metadata": {},
   "outputs": [],
   "source": [
    "lower_bound = int(2400)\n",
    "upper_bound = int(2600)\n",
    "\n",
    "median = 2500\n",
    "standard_dev = 100  #file:///Users/jnapolitano/Downloads/LNG_Shipping_a_Descriptive_Analysis.pdf\n",
    "\n",
    "cap_range = range(lower_bound, upper_bound)\n",
    "\n",
    "rent_distribution = np.random.normal(loc=median , scale=standard_dev, size=10000)\n",
    "\n",
    "rent_sample = choice(rent_distribution,12)"
   ]
  },
  {
   "cell_type": "markdown",
   "metadata": {},
   "source": [
    "### Houston Monthly food costs\n"
   ]
  },
  {
   "cell_type": "code",
   "execution_count": 119,
   "metadata": {},
   "outputs": [],
   "source": [
    "lower_bound = int(300)\n",
    "upper_bound = int(500)\n",
    "\n",
    "median = 400\n",
    "standard_dev = 50 \n",
    "\n",
    "food_range = range(lower_bound, upper_bound)\n",
    "\n",
    "food_distribution = np.random.normal(loc=median , scale=standard_dev, size=10000)\n",
    "\n",
    "food_sample = choice(food_distribution, 12)"
   ]
  },
  {
   "cell_type": "markdown",
   "metadata": {},
   "source": [
    "### Houston Insurance Costs\n"
   ]
  },
  {
   "cell_type": "code",
   "execution_count": 120,
   "metadata": {},
   "outputs": [],
   "source": [
    "lower_bound = int(200)\n",
    "upper_bound = int(300)\n",
    "\n",
    "median = 250\n",
    "standard_dev = 25\n",
    "\n",
    "insurance_range = range(lower_bound, upper_bound)\n",
    "\n",
    "insurance_distribution = np.random.normal(loc=median , scale=standard_dev, size=10000)\n"
   ]
  },
  {
   "cell_type": "markdown",
   "metadata": {},
   "source": [
    "#### The Houston Cost of Living DF"
   ]
  },
  {
   "cell_type": "code",
   "execution_count": 121,
   "metadata": {},
   "outputs": [
    {
     "data": {
      "text/html": [
       "<div>\n",
       "<style scoped>\n",
       "    .dataframe tbody tr th:only-of-type {\n",
       "        vertical-align: middle;\n",
       "    }\n",
       "\n",
       "    .dataframe tbody tr th {\n",
       "        vertical-align: top;\n",
       "    }\n",
       "\n",
       "    .dataframe thead th {\n",
       "        text-align: right;\n",
       "    }\n",
       "</style>\n",
       "<table border=\"1\" class=\"dataframe\">\n",
       "  <thead>\n",
       "    <tr style=\"text-align: right;\">\n",
       "      <th></th>\n",
       "      <th>rent</th>\n",
       "      <th>food</th>\n",
       "      <th>insurance</th>\n",
       "      <th>monthly_cost</th>\n",
       "    </tr>\n",
       "  </thead>\n",
       "  <tbody>\n",
       "    <tr>\n",
       "      <th>0</th>\n",
       "      <td>2472.688851</td>\n",
       "      <td>334.419350</td>\n",
       "      <td>231.162225</td>\n",
       "      <td>3038.270426</td>\n",
       "    </tr>\n",
       "    <tr>\n",
       "      <th>1</th>\n",
       "      <td>2399.284893</td>\n",
       "      <td>444.677340</td>\n",
       "      <td>248.645107</td>\n",
       "      <td>3092.607340</td>\n",
       "    </tr>\n",
       "    <tr>\n",
       "      <th>2</th>\n",
       "      <td>2684.456976</td>\n",
       "      <td>430.277801</td>\n",
       "      <td>252.578613</td>\n",
       "      <td>3367.313390</td>\n",
       "    </tr>\n",
       "    <tr>\n",
       "      <th>3</th>\n",
       "      <td>2478.390464</td>\n",
       "      <td>360.661703</td>\n",
       "      <td>291.989836</td>\n",
       "      <td>3131.042002</td>\n",
       "    </tr>\n",
       "    <tr>\n",
       "      <th>4</th>\n",
       "      <td>2513.324309</td>\n",
       "      <td>429.771020</td>\n",
       "      <td>252.866861</td>\n",
       "      <td>3195.962190</td>\n",
       "    </tr>\n",
       "    <tr>\n",
       "      <th>5</th>\n",
       "      <td>2501.390892</td>\n",
       "      <td>413.121444</td>\n",
       "      <td>243.717854</td>\n",
       "      <td>3158.230190</td>\n",
       "    </tr>\n",
       "    <tr>\n",
       "      <th>6</th>\n",
       "      <td>2554.433859</td>\n",
       "      <td>363.994333</td>\n",
       "      <td>226.672435</td>\n",
       "      <td>3145.100627</td>\n",
       "    </tr>\n",
       "    <tr>\n",
       "      <th>7</th>\n",
       "      <td>2530.369935</td>\n",
       "      <td>299.997467</td>\n",
       "      <td>239.663510</td>\n",
       "      <td>3070.030911</td>\n",
       "    </tr>\n",
       "    <tr>\n",
       "      <th>8</th>\n",
       "      <td>2635.681318</td>\n",
       "      <td>394.667441</td>\n",
       "      <td>241.502045</td>\n",
       "      <td>3271.850803</td>\n",
       "    </tr>\n",
       "    <tr>\n",
       "      <th>9</th>\n",
       "      <td>2596.457738</td>\n",
       "      <td>513.944623</td>\n",
       "      <td>229.362551</td>\n",
       "      <td>3339.764912</td>\n",
       "    </tr>\n",
       "    <tr>\n",
       "      <th>10</th>\n",
       "      <td>2455.017883</td>\n",
       "      <td>371.266360</td>\n",
       "      <td>283.637179</td>\n",
       "      <td>3109.921421</td>\n",
       "    </tr>\n",
       "    <tr>\n",
       "      <th>11</th>\n",
       "      <td>2427.449703</td>\n",
       "      <td>485.960065</td>\n",
       "      <td>276.488430</td>\n",
       "      <td>3189.898198</td>\n",
       "    </tr>\n",
       "  </tbody>\n",
       "</table>\n",
       "</div>"
      ],
      "text/plain": [
       "           rent        food   insurance  monthly_cost\n",
       "0   2472.688851  334.419350  231.162225   3038.270426\n",
       "1   2399.284893  444.677340  248.645107   3092.607340\n",
       "2   2684.456976  430.277801  252.578613   3367.313390\n",
       "3   2478.390464  360.661703  291.989836   3131.042002\n",
       "4   2513.324309  429.771020  252.866861   3195.962190\n",
       "5   2501.390892  413.121444  243.717854   3158.230190\n",
       "6   2554.433859  363.994333  226.672435   3145.100627\n",
       "7   2530.369935  299.997467  239.663510   3070.030911\n",
       "8   2635.681318  394.667441  241.502045   3271.850803\n",
       "9   2596.457738  513.944623  229.362551   3339.764912\n",
       "10  2455.017883  371.266360  283.637179   3109.921421\n",
       "11  2427.449703  485.960065  276.488430   3189.898198"
      ]
     },
     "execution_count": 121,
     "metadata": {},
     "output_type": "execute_result"
    }
   ],
   "source": [
    "cost_of_living_df = pd.DataFrame()\n",
    "cost_of_living_df['rent']= choice(rent_distribution,12)\n",
    "cost_of_living_df['food'] = choice(food_distribution, 12)\n",
    "cost_of_living_df['insurance'] = choice(insurance_distribution, 12)\n",
    "cost_of_living_df['monthly_cost'] = cost_of_living_df.rent + cost_of_living_df.food + cost_of_living_df.insurance\n",
    "cost_of_living_df"
   ]
  },
  {
   "cell_type": "markdown",
   "metadata": {},
   "source": [
    "## Houston Costs Per Annum Algorithm"
   ]
  },
  {
   "cell_type": "markdown",
   "metadata": {},
   "source": [
    "The algorithm below calculates the annual cost of rent, food, and insurance to determine total cost per year.  Rent, food, and insurance are set by random choice based on the distributions defined in the functions above.  \n",
    "\n",
    "I run the simulation 10,000 times which in theory corresponds to 10,000 random samples of annual costs.  The point in doing this is to create a random normal distribution to define convidence intervals of my total annual costs.  "
   ]
  },
  {
   "cell_type": "code",
   "execution_count": 122,
   "metadata": {},
   "outputs": [],
   "source": [
    "\n",
    "years = 10000\n",
    "year_counter = 0\n",
    "#carbon_total_millions_metric_tons = 300000000\n",
    "#total_tons_shipped = 0\n",
    "total_price = 0\n",
    "cycle_price_samples = np.zeros(shape=years)\n",
    "cycle_rent_samples = np.zeros(shape=years)\n",
    "cycle_food_samples = np.zeros(shape=years)\n",
    "cycle_insurance_samples = np.zeros(shape=years)\n",
    "annual_cost = 0\n",
    "\n",
    "\n",
    "for year in range(years):\n",
    "    # Define a New DataFrame. It should fall out of scope with each iteration \n",
    "    cost_of_living_df = pd.DataFrame()\n",
    "    #random choice of rent \n",
    "    cost_of_living_df['rent']= choice(rent_distribution,12)\n",
    "    #random choice of food\n",
    "    cost_of_living_df['food'] = choice(food_distribution, 12)\n",
    "    #random Choice of Insurance\n",
    "    cost_of_living_df['insurance'] = choice(insurance_distribution, 12)\n",
    "    #Random Choice of total annual cost\n",
    "    cost_of_living_df['monthly_cost'] = cost_of_living_df.rent + cost_of_living_df.food + cost_of_living_df.insurance\n",
    "    # must use apply to account for multiple 0 conditions.  If i simply vectorized the function across the dataframe in a single call i would assign the the same values each day \n",
    "    #calculate cost per day for fun...\n",
    "    # query all that are = o.  Summate the capacities deduct the total \n",
    "    annual_cost = cost_of_living_df['monthly_cost'].sum()\n",
    "    annual_rent = cost_of_living_df.rent.sum()\n",
    "    annual_food = cost_of_living_df.food.sum()\n",
    "    annual_insurance = cost_of_living_df.insurance.sum()\n",
    "    cycle_price_samples[year] = annual_cost\n",
    "    cycle_food_samples[year] = annual_food\n",
    "    cycle_insurance_samples[year] = annual_insurance\n",
    "    cycle_rent_samples[year] = annual_rent\n",
    "    #print(carbon_total_millions_metric_tons)\n",
    "    year_counter = year_counter+1\n",
    "\n"
   ]
  },
  {
   "cell_type": "markdown",
   "metadata": {},
   "source": [
    "### Houston Prediction Df"
   ]
  },
  {
   "cell_type": "code",
   "execution_count": 123,
   "metadata": {},
   "outputs": [],
   "source": [
    "prediction_df = pd.DataFrame()\n",
    "prediction_df['rent'] = cycle_rent_samples\n",
    "prediction_df['food'] = cycle_food_samples\n",
    "prediction_df['insurance'] = cycle_insurance_samples\n",
    "prediction_df['total'] = cycle_price_samples"
   ]
  },
  {
   "cell_type": "code",
   "execution_count": 124,
   "metadata": {},
   "outputs": [
    {
     "data": {
      "text/html": [
       "<div>\n",
       "<style scoped>\n",
       "    .dataframe tbody tr th:only-of-type {\n",
       "        vertical-align: middle;\n",
       "    }\n",
       "\n",
       "    .dataframe tbody tr th {\n",
       "        vertical-align: top;\n",
       "    }\n",
       "\n",
       "    .dataframe thead th {\n",
       "        text-align: right;\n",
       "    }\n",
       "</style>\n",
       "<table border=\"1\" class=\"dataframe\">\n",
       "  <thead>\n",
       "    <tr style=\"text-align: right;\">\n",
       "      <th></th>\n",
       "      <th>rent</th>\n",
       "      <th>food</th>\n",
       "      <th>insurance</th>\n",
       "      <th>total</th>\n",
       "    </tr>\n",
       "  </thead>\n",
       "  <tbody>\n",
       "    <tr>\n",
       "      <th>count</th>\n",
       "      <td>10000.000000</td>\n",
       "      <td>10000.000000</td>\n",
       "      <td>10000.000000</td>\n",
       "      <td>10000.000000</td>\n",
       "    </tr>\n",
       "    <tr>\n",
       "      <th>mean</th>\n",
       "      <td>30003.016272</td>\n",
       "      <td>4800.864106</td>\n",
       "      <td>2997.910667</td>\n",
       "      <td>37801.791045</td>\n",
       "    </tr>\n",
       "    <tr>\n",
       "      <th>std</th>\n",
       "      <td>344.473477</td>\n",
       "      <td>171.736899</td>\n",
       "      <td>86.991071</td>\n",
       "      <td>394.976839</td>\n",
       "    </tr>\n",
       "    <tr>\n",
       "      <th>min</th>\n",
       "      <td>28586.298471</td>\n",
       "      <td>4159.970425</td>\n",
       "      <td>2699.038887</td>\n",
       "      <td>36163.596078</td>\n",
       "    </tr>\n",
       "    <tr>\n",
       "      <th>25%</th>\n",
       "      <td>29771.562236</td>\n",
       "      <td>4683.226307</td>\n",
       "      <td>2940.117598</td>\n",
       "      <td>37537.005225</td>\n",
       "    </tr>\n",
       "    <tr>\n",
       "      <th>50%</th>\n",
       "      <td>30003.442289</td>\n",
       "      <td>4800.664909</td>\n",
       "      <td>2997.584664</td>\n",
       "      <td>37797.598919</td>\n",
       "    </tr>\n",
       "    <tr>\n",
       "      <th>75%</th>\n",
       "      <td>30234.927776</td>\n",
       "      <td>4915.307716</td>\n",
       "      <td>3056.853675</td>\n",
       "      <td>38072.961560</td>\n",
       "    </tr>\n",
       "    <tr>\n",
       "      <th>max</th>\n",
       "      <td>31370.239418</td>\n",
       "      <td>5495.020896</td>\n",
       "      <td>3314.016695</td>\n",
       "      <td>39469.935965</td>\n",
       "    </tr>\n",
       "  </tbody>\n",
       "</table>\n",
       "</div>"
      ],
      "text/plain": [
       "               rent          food     insurance         total\n",
       "count  10000.000000  10000.000000  10000.000000  10000.000000\n",
       "mean   30003.016272   4800.864106   2997.910667  37801.791045\n",
       "std      344.473477    171.736899     86.991071    394.976839\n",
       "min    28586.298471   4159.970425   2699.038887  36163.596078\n",
       "25%    29771.562236   4683.226307   2940.117598  37537.005225\n",
       "50%    30003.442289   4800.664909   2997.584664  37797.598919\n",
       "75%    30234.927776   4915.307716   3056.853675  38072.961560\n",
       "max    31370.239418   5495.020896   3314.016695  39469.935965"
      ]
     },
     "execution_count": 124,
     "metadata": {},
     "output_type": "execute_result"
    }
   ],
   "source": [
    "prediction_df.describe()\n"
   ]
  },
  {
   "cell_type": "markdown",
   "metadata": {},
   "source": [
    "### Houston Annual Cost Histogram Histogram"
   ]
  },
  {
   "cell_type": "code",
   "execution_count": 125,
   "metadata": {},
   "outputs": [
    {
     "data": {
      "image/png": "[encoded data removed]",
      "text/plain": [
       "<Figure size 432x288 with 1 Axes>"
      ]
     },
     "metadata": {
      "needs_background": "light"
     },
     "output_type": "display_data"
    }
   ],
   "source": [
    "prediction_df.total.plot.hist(grid=True, bins=20, rwidth=0.9,\n",
    "                   color='#607c8e')\n",
    "plt.xlabel('Annual Total Costs Price USD')\n",
    "plt.ylabel('Frequency')\n",
    "plt.grid(axis='y', alpha=0.75)"
   ]
  },
  {
   "cell_type": "markdown",
   "metadata": {},
   "source": [
    "### Houston: Calculating the Confidence Interval For Total Costs\n",
    "\n",
    "The data is nearly normal. Greater samples sizes would produce a graph of nearly perfect normality"
   ]
  },
  {
   "cell_type": "code",
   "execution_count": 126,
   "metadata": {},
   "outputs": [
    {
     "data": {
      "text/plain": [
       "(37795.2942543157, 37808.287836034055)"
      ]
     },
     "execution_count": 126,
     "metadata": {},
     "output_type": "execute_result"
    }
   ],
   "source": [
    "\n",
    "st.norm.interval(alpha=0.90, loc=np.mean(prediction_df.total), scale=st.sem(prediction_df.total))"
   ]
  },
  {
   "cell_type": "markdown",
   "metadata": {},
   "source": [
    "### Houston Annual Rent Histogram Histogram\n"
   ]
  },
  {
   "cell_type": "code",
   "execution_count": 127,
   "metadata": {},
   "outputs": [
    {
     "data": {
      "image/png": "[encoded data removed]",
      "text/plain": [
       "<Figure size 432x288 with 1 Axes>"
      ]
     },
     "metadata": {
      "needs_background": "light"
     },
     "output_type": "display_data"
    }
   ],
   "source": [
    "### Annual Cost Histogram Histogram\n",
    "prediction_df.rent.plot.hist(grid=True, bins=20, rwidth=0.9,\n",
    "                   color='#607c8e')\n",
    "plt.title('Annual Rent Cost Distribution ')\n",
    "plt.xlabel('Annual Rent Costs Price USD')\n",
    "plt.ylabel('Frequency')\n",
    "plt.grid(axis='y', alpha=0.75)"
   ]
  },
  {
   "cell_type": "markdown",
   "metadata": {},
   "source": [
    "### Houston: Calculating the Confidence Interval For Annual Rent\n",
    "\n",
    "The data is nearly normal. Greater samples sizes would produce a graph of nearly perfect normality"
   ]
  },
  {
   "cell_type": "code",
   "execution_count": 128,
   "metadata": {},
   "outputs": [
    {
     "data": {
      "text/plain": [
       "(29996.264715447538, 30009.767827637417)"
      ]
     },
     "execution_count": 128,
     "metadata": {},
     "output_type": "execute_result"
    }
   ],
   "source": [
    "\n",
    "st.norm.interval(alpha=0.95, loc=np.mean(prediction_df.rent), scale=st.sem(prediction_df.rent))"
   ]
  },
  {
   "cell_type": "markdown",
   "metadata": {},
   "source": [
    "## New York Cost of Living Expenses\n",
    "\n",
    "For the sake of comparison, the New York Expense distributions are calculated below.  I assume that everything but rent will be equivalent to Houston.  A more accurate model would account for insurance, food, and incidental differences.  \n",
    "\n",
    "I am assuming the rent of a two bedroom apartment.  \n",
    "\n",
    "The data i am using was scraped from craigslist in 2018.  I will redo it later for 2022 data to get a better model.\n"
   ]
  },
  {
   "cell_type": "code",
   "execution_count": 129,
   "metadata": {},
   "outputs": [],
   "source": [
    "nyc_df = pd.read_csv(\"/Users/jnapolitano/Projects/cost-of-living-projections/nyc-housing.csv\", encoding=\"unicode-escape\")"
   ]
  },
  {
   "cell_type": "code",
   "execution_count": 130,
   "metadata": {},
   "outputs": [],
   "source": [
    "#assuiming a two bedroom\n",
    "nyc_df = nyc_df[nyc_df['Bedrooms']== '2br']"
   ]
  },
  {
   "cell_type": "code",
   "execution_count": 131,
   "metadata": {},
   "outputs": [
    {
     "data": {
      "text/html": [
       "<div>\n",
       "<style scoped>\n",
       "    .dataframe tbody tr th:only-of-type {\n",
       "        vertical-align: middle;\n",
       "    }\n",
       "\n",
       "    .dataframe tbody tr th {\n",
       "        vertical-align: top;\n",
       "    }\n",
       "\n",
       "    .dataframe thead th {\n",
       "        text-align: right;\n",
       "    }\n",
       "</style>\n",
       "<table border=\"1\" class=\"dataframe\">\n",
       "  <thead>\n",
       "    <tr style=\"text-align: right;\">\n",
       "      <th></th>\n",
       "      <th>Zipcode</th>\n",
       "      <th>Price</th>\n",
       "    </tr>\n",
       "  </thead>\n",
       "  <tbody>\n",
       "    <tr>\n",
       "      <th>count</th>\n",
       "      <td>2626.000000</td>\n",
       "      <td>2625.000000</td>\n",
       "    </tr>\n",
       "    <tr>\n",
       "      <th>mean</th>\n",
       "      <td>10845.203351</td>\n",
       "      <td>2755.018286</td>\n",
       "    </tr>\n",
       "    <tr>\n",
       "      <th>std</th>\n",
       "      <td>556.758722</td>\n",
       "      <td>7465.827048</td>\n",
       "    </tr>\n",
       "    <tr>\n",
       "      <th>min</th>\n",
       "      <td>10001.000000</td>\n",
       "      <td>16.000000</td>\n",
       "    </tr>\n",
       "    <tr>\n",
       "      <th>25%</th>\n",
       "      <td>10065.000000</td>\n",
       "      <td>1950.000000</td>\n",
       "    </tr>\n",
       "    <tr>\n",
       "      <th>50%</th>\n",
       "      <td>11210.000000</td>\n",
       "      <td>2330.000000</td>\n",
       "    </tr>\n",
       "    <tr>\n",
       "      <th>75%</th>\n",
       "      <td>11231.000000</td>\n",
       "      <td>2922.000000</td>\n",
       "    </tr>\n",
       "    <tr>\n",
       "      <th>max</th>\n",
       "      <td>11697.000000</td>\n",
       "      <td>378888.000000</td>\n",
       "    </tr>\n",
       "  </tbody>\n",
       "</table>\n",
       "</div>"
      ],
      "text/plain": [
       "            Zipcode          Price\n",
       "count   2626.000000    2625.000000\n",
       "mean   10845.203351    2755.018286\n",
       "std      556.758722    7465.827048\n",
       "min    10001.000000      16.000000\n",
       "25%    10065.000000    1950.000000\n",
       "50%    11210.000000    2330.000000\n",
       "75%    11231.000000    2922.000000\n",
       "max    11697.000000  378888.000000"
      ]
     },
     "execution_count": 131,
     "metadata": {},
     "output_type": "execute_result"
    }
   ],
   "source": [
    "nyc_df.describe()"
   ]
  },
  {
   "cell_type": "markdown",
   "metadata": {},
   "source": [
    "The price is about 2800 with a std of 7,465.  Which is absurd.  To do a better analysis, I need to clean the data. "
   ]
  },
  {
   "cell_type": "code",
   "execution_count": 132,
   "metadata": {},
   "outputs": [],
   "source": [
    "\n",
    "idx = (nyc_df.Price > 500) & (nyc_df.Price < 4500)\n",
    "nyc_df = nyc_df[idx]"
   ]
  },
  {
   "cell_type": "code",
   "execution_count": 133,
   "metadata": {},
   "outputs": [
    {
     "data": {
      "text/html": [
       "<div>\n",
       "<style scoped>\n",
       "    .dataframe tbody tr th:only-of-type {\n",
       "        vertical-align: middle;\n",
       "    }\n",
       "\n",
       "    .dataframe tbody tr th {\n",
       "        vertical-align: top;\n",
       "    }\n",
       "\n",
       "    .dataframe thead th {\n",
       "        text-align: right;\n",
       "    }\n",
       "</style>\n",
       "<table border=\"1\" class=\"dataframe\">\n",
       "  <thead>\n",
       "    <tr style=\"text-align: right;\">\n",
       "      <th></th>\n",
       "      <th>Zipcode</th>\n",
       "      <th>Price</th>\n",
       "    </tr>\n",
       "  </thead>\n",
       "  <tbody>\n",
       "    <tr>\n",
       "      <th>count</th>\n",
       "      <td>2441.000000</td>\n",
       "      <td>2441.00000</td>\n",
       "    </tr>\n",
       "    <tr>\n",
       "      <th>mean</th>\n",
       "      <td>10881.331422</td>\n",
       "      <td>2435.25891</td>\n",
       "    </tr>\n",
       "    <tr>\n",
       "      <th>std</th>\n",
       "      <td>541.102216</td>\n",
       "      <td>728.96291</td>\n",
       "    </tr>\n",
       "    <tr>\n",
       "      <th>min</th>\n",
       "      <td>10001.000000</td>\n",
       "      <td>600.00000</td>\n",
       "    </tr>\n",
       "    <tr>\n",
       "      <th>25%</th>\n",
       "      <td>10302.000000</td>\n",
       "      <td>1950.00000</td>\n",
       "    </tr>\n",
       "    <tr>\n",
       "      <th>50%</th>\n",
       "      <td>11211.000000</td>\n",
       "      <td>2300.00000</td>\n",
       "    </tr>\n",
       "    <tr>\n",
       "      <th>75%</th>\n",
       "      <td>11233.000000</td>\n",
       "      <td>2750.00000</td>\n",
       "    </tr>\n",
       "    <tr>\n",
       "      <th>max</th>\n",
       "      <td>11697.000000</td>\n",
       "      <td>4495.00000</td>\n",
       "    </tr>\n",
       "  </tbody>\n",
       "</table>\n",
       "</div>"
      ],
      "text/plain": [
       "            Zipcode       Price\n",
       "count   2441.000000  2441.00000\n",
       "mean   10881.331422  2435.25891\n",
       "std      541.102216   728.96291\n",
       "min    10001.000000   600.00000\n",
       "25%    10302.000000  1950.00000\n",
       "50%    11211.000000  2300.00000\n",
       "75%    11233.000000  2750.00000\n",
       "max    11697.000000  4495.00000"
      ]
     },
     "execution_count": 133,
     "metadata": {},
     "output_type": "execute_result"
    }
   ],
   "source": [
    "nyc_df.describe()"
   ]
  },
  {
   "cell_type": "markdown",
   "metadata": {},
   "source": [
    "When accounting for outliers the data is far more managable.  I'm surprised by the mean price.  Again this data is old, but it is also does not accout for neighborhoods.  I will redo the analysis at a later data filtered by neighborhoods."
   ]
  },
  {
   "cell_type": "markdown",
   "metadata": {},
   "source": [
    "### Creating the NYC Distributions "
   ]
  },
  {
   "cell_type": "code",
   "execution_count": 134,
   "metadata": {},
   "outputs": [],
   "source": [
    "lower_bound = int(600)\n",
    "upper_bound = int(4500)\n",
    "\n",
    "median = 2435\n",
    "standard_dev = 729 \n",
    "\n",
    "cap_range = range(lower_bound, upper_bound)\n",
    "\n",
    "rent_distribution = np.random.normal(loc=median , scale=standard_dev, size=10000)\n",
    "\n",
    "rent_sample = choice(rent_distribution,12)"
   ]
  },
  {
   "cell_type": "markdown",
   "metadata": {},
   "source": [
    "### NYC Monthly food costs\n"
   ]
  },
  {
   "cell_type": "code",
   "execution_count": 135,
   "metadata": {},
   "outputs": [],
   "source": [
    "lower_bound = int(300)\n",
    "upper_bound = int(500)\n",
    "\n",
    "median = 400\n",
    "standard_dev = 50 \n",
    "\n",
    "food_range = range(lower_bound, upper_bound)\n",
    "\n",
    "food_distribution = np.random.normal(loc=median , scale=standard_dev, size=10000)\n",
    "\n",
    "food_sample = choice(food_distribution, 12)"
   ]
  },
  {
   "cell_type": "markdown",
   "metadata": {},
   "source": [
    "### NYC Insurance Costs\n"
   ]
  },
  {
   "cell_type": "code",
   "execution_count": 136,
   "metadata": {},
   "outputs": [],
   "source": [
    "lower_bound = int(200)\n",
    "upper_bound = int(300)\n",
    "\n",
    "median = 250\n",
    "standard_dev = 25\n",
    "\n",
    "insurance_range = range(lower_bound, upper_bound)\n",
    "\n",
    "insurance_distribution = np.random.normal(loc=median , scale=standard_dev, size=10000)\n"
   ]
  },
  {
   "cell_type": "markdown",
   "metadata": {},
   "source": [
    "#### NYC Cost of Living Distribution"
   ]
  },
  {
   "cell_type": "code",
   "execution_count": 137,
   "metadata": {},
   "outputs": [
    {
     "data": {
      "text/html": [
       "<div>\n",
       "<style scoped>\n",
       "    .dataframe tbody tr th:only-of-type {\n",
       "        vertical-align: middle;\n",
       "    }\n",
       "\n",
       "    .dataframe tbody tr th {\n",
       "        vertical-align: top;\n",
       "    }\n",
       "\n",
       "    .dataframe thead th {\n",
       "        text-align: right;\n",
       "    }\n",
       "</style>\n",
       "<table border=\"1\" class=\"dataframe\">\n",
       "  <thead>\n",
       "    <tr style=\"text-align: right;\">\n",
       "      <th></th>\n",
       "      <th>rent</th>\n",
       "      <th>food</th>\n",
       "      <th>insurance</th>\n",
       "      <th>monthly_cost</th>\n",
       "    </tr>\n",
       "  </thead>\n",
       "  <tbody>\n",
       "    <tr>\n",
       "      <th>0</th>\n",
       "      <td>2440.594149</td>\n",
       "      <td>404.104193</td>\n",
       "      <td>263.802114</td>\n",
       "      <td>3108.500457</td>\n",
       "    </tr>\n",
       "    <tr>\n",
       "      <th>1</th>\n",
       "      <td>3509.157666</td>\n",
       "      <td>399.234822</td>\n",
       "      <td>206.641152</td>\n",
       "      <td>4115.033640</td>\n",
       "    </tr>\n",
       "    <tr>\n",
       "      <th>2</th>\n",
       "      <td>3351.649621</td>\n",
       "      <td>297.314475</td>\n",
       "      <td>284.177204</td>\n",
       "      <td>3933.141300</td>\n",
       "    </tr>\n",
       "    <tr>\n",
       "      <th>3</th>\n",
       "      <td>1977.607960</td>\n",
       "      <td>359.872656</td>\n",
       "      <td>255.831381</td>\n",
       "      <td>2593.311996</td>\n",
       "    </tr>\n",
       "    <tr>\n",
       "      <th>4</th>\n",
       "      <td>2169.224724</td>\n",
       "      <td>386.271512</td>\n",
       "      <td>244.469415</td>\n",
       "      <td>2799.965652</td>\n",
       "    </tr>\n",
       "    <tr>\n",
       "      <th>5</th>\n",
       "      <td>2661.843885</td>\n",
       "      <td>356.660878</td>\n",
       "      <td>218.425732</td>\n",
       "      <td>3236.930495</td>\n",
       "    </tr>\n",
       "    <tr>\n",
       "      <th>6</th>\n",
       "      <td>3595.833071</td>\n",
       "      <td>385.012912</td>\n",
       "      <td>273.882653</td>\n",
       "      <td>4254.728637</td>\n",
       "    </tr>\n",
       "    <tr>\n",
       "      <th>7</th>\n",
       "      <td>1765.419028</td>\n",
       "      <td>404.770447</td>\n",
       "      <td>236.665360</td>\n",
       "      <td>2406.854835</td>\n",
       "    </tr>\n",
       "    <tr>\n",
       "      <th>8</th>\n",
       "      <td>1708.955308</td>\n",
       "      <td>348.178355</td>\n",
       "      <td>231.690103</td>\n",
       "      <td>2288.823766</td>\n",
       "    </tr>\n",
       "    <tr>\n",
       "      <th>9</th>\n",
       "      <td>3227.258413</td>\n",
       "      <td>392.787025</td>\n",
       "      <td>252.315570</td>\n",
       "      <td>3872.361007</td>\n",
       "    </tr>\n",
       "    <tr>\n",
       "      <th>10</th>\n",
       "      <td>1941.492537</td>\n",
       "      <td>404.384587</td>\n",
       "      <td>247.628257</td>\n",
       "      <td>2593.505381</td>\n",
       "    </tr>\n",
       "    <tr>\n",
       "      <th>11</th>\n",
       "      <td>2081.218740</td>\n",
       "      <td>416.678465</td>\n",
       "      <td>213.204362</td>\n",
       "      <td>2711.101567</td>\n",
       "    </tr>\n",
       "  </tbody>\n",
       "</table>\n",
       "</div>"
      ],
      "text/plain": [
       "           rent        food   insurance  monthly_cost\n",
       "0   2440.594149  404.104193  263.802114   3108.500457\n",
       "1   3509.157666  399.234822  206.641152   4115.033640\n",
       "2   3351.649621  297.314475  284.177204   3933.141300\n",
       "3   1977.607960  359.872656  255.831381   2593.311996\n",
       "4   2169.224724  386.271512  244.469415   2799.965652\n",
       "5   2661.843885  356.660878  218.425732   3236.930495\n",
       "6   3595.833071  385.012912  273.882653   4254.728637\n",
       "7   1765.419028  404.770447  236.665360   2406.854835\n",
       "8   1708.955308  348.178355  231.690103   2288.823766\n",
       "9   3227.258413  392.787025  252.315570   3872.361007\n",
       "10  1941.492537  404.384587  247.628257   2593.505381\n",
       "11  2081.218740  416.678465  213.204362   2711.101567"
      ]
     },
     "execution_count": 137,
     "metadata": {},
     "output_type": "execute_result"
    }
   ],
   "source": [
    "cost_of_living_df = pd.DataFrame()\n",
    "cost_of_living_df['rent']= choice(rent_distribution,12)\n",
    "cost_of_living_df['food'] = choice(food_distribution, 12)\n",
    "cost_of_living_df['insurance'] = choice(insurance_distribution, 12)\n",
    "cost_of_living_df['monthly_cost'] = cost_of_living_df.rent + cost_of_living_df.food + cost_of_living_df.insurance\n",
    "cost_of_living_df"
   ]
  },
  {
   "cell_type": "markdown",
   "metadata": {},
   "source": [
    "## NYC Costs Per Annum Algorithm"
   ]
  },
  {
   "cell_type": "markdown",
   "metadata": {},
   "source": [
    "The algorithm below calculates the annual cost of rent, food, and insurance to determine total cost per year.  Rent, food, and insurance are set by random choice based on the distributions defined in the functions above.  \n",
    "\n",
    "I run the simulation 10,000 times which in theory corresponds to 10,000 random samples of annual costs.  The point in doing this is to create a random normal distribution to define convidence intervals of my total annual costs.  "
   ]
  },
  {
   "cell_type": "code",
   "execution_count": 138,
   "metadata": {},
   "outputs": [],
   "source": [
    "\n",
    "years = 10000\n",
    "year_counter = 0\n",
    "#carbon_total_millions_metric_tons = 300000000\n",
    "#total_tons_shipped = 0\n",
    "total_price = 0\n",
    "cycle_price_samples = np.zeros(shape=years)\n",
    "cycle_rent_samples = np.zeros(shape=years)\n",
    "cycle_food_samples = np.zeros(shape=years)\n",
    "cycle_insurance_samples = np.zeros(shape=years)\n",
    "annual_cost = 0\n",
    "\n",
    "\n",
    "for year in range(years):\n",
    "    # Define a New DataFrame. It should fall out of scope with each iteration \n",
    "    cost_of_living_df = pd.DataFrame()\n",
    "    #random choice of rent \n",
    "    cost_of_living_df['rent']= choice(rent_distribution,12)\n",
    "    #random choice of food\n",
    "    cost_of_living_df['food'] = choice(food_distribution, 12)\n",
    "    #random Choice of Insurance\n",
    "    cost_of_living_df['insurance'] = choice(insurance_distribution, 12)\n",
    "    #Random Choice of total annual cost\n",
    "    cost_of_living_df['monthly_cost'] = cost_of_living_df.rent + cost_of_living_df.food + cost_of_living_df.insurance\n",
    "    # must use apply to account for multiple 0 conditions.  If i simply vectorized the function across the dataframe in a single call i would assign the the same values each day \n",
    "    #calculate cost per day for fun...\n",
    "    # query all that are = o.  Summate the capacities deduct the total \n",
    "    annual_cost = cost_of_living_df['monthly_cost'].sum()\n",
    "    annual_rent = cost_of_living_df.rent.sum()\n",
    "    annual_food = cost_of_living_df.food.sum()\n",
    "    annual_insurance = cost_of_living_df.insurance.sum()\n",
    "    cycle_price_samples[year] = annual_cost\n",
    "    cycle_food_samples[year] = annual_food\n",
    "    cycle_insurance_samples[year] = annual_insurance\n",
    "    cycle_rent_samples[year] = annual_rent\n",
    "    #print(carbon_total_millions_metric_tons)\n",
    "    year_counter = year_counter+1\n",
    "\n"
   ]
  },
  {
   "cell_type": "markdown",
   "metadata": {},
   "source": [
    "### NYC Prediction Df"
   ]
  },
  {
   "cell_type": "code",
   "execution_count": 139,
   "metadata": {},
   "outputs": [],
   "source": [
    "prediction_df = pd.DataFrame()\n",
    "prediction_df['rent'] = cycle_rent_samples\n",
    "prediction_df['food'] = cycle_food_samples\n",
    "prediction_df['insurance'] = cycle_insurance_samples\n",
    "prediction_df['total'] = cycle_price_samples"
   ]
  },
  {
   "cell_type": "code",
   "execution_count": 140,
   "metadata": {},
   "outputs": [
    {
     "data": {
      "text/html": [
       "<div>\n",
       "<style scoped>\n",
       "    .dataframe tbody tr th:only-of-type {\n",
       "        vertical-align: middle;\n",
       "    }\n",
       "\n",
       "    .dataframe tbody tr th {\n",
       "        vertical-align: top;\n",
       "    }\n",
       "\n",
       "    .dataframe thead th {\n",
       "        text-align: right;\n",
       "    }\n",
       "</style>\n",
       "<table border=\"1\" class=\"dataframe\">\n",
       "  <thead>\n",
       "    <tr style=\"text-align: right;\">\n",
       "      <th></th>\n",
       "      <th>rent</th>\n",
       "      <th>food</th>\n",
       "      <th>insurance</th>\n",
       "      <th>total</th>\n",
       "    </tr>\n",
       "  </thead>\n",
       "  <tbody>\n",
       "    <tr>\n",
       "      <th>count</th>\n",
       "      <td>10000.000000</td>\n",
       "      <td>10000.000000</td>\n",
       "      <td>10000.000000</td>\n",
       "      <td>10000.000000</td>\n",
       "    </tr>\n",
       "    <tr>\n",
       "      <th>mean</th>\n",
       "      <td>29219.509691</td>\n",
       "      <td>4797.809482</td>\n",
       "      <td>3004.224643</td>\n",
       "      <td>37021.543816</td>\n",
       "    </tr>\n",
       "    <tr>\n",
       "      <th>std</th>\n",
       "      <td>2532.300418</td>\n",
       "      <td>172.673041</td>\n",
       "      <td>87.221734</td>\n",
       "      <td>2542.267617</td>\n",
       "    </tr>\n",
       "    <tr>\n",
       "      <th>min</th>\n",
       "      <td>18744.517281</td>\n",
       "      <td>4116.639699</td>\n",
       "      <td>2574.323735</td>\n",
       "      <td>26447.949901</td>\n",
       "    </tr>\n",
       "    <tr>\n",
       "      <th>25%</th>\n",
       "      <td>27545.387716</td>\n",
       "      <td>4678.877662</td>\n",
       "      <td>2945.270499</td>\n",
       "      <td>35351.052672</td>\n",
       "    </tr>\n",
       "    <tr>\n",
       "      <th>50%</th>\n",
       "      <td>29244.878069</td>\n",
       "      <td>4797.251203</td>\n",
       "      <td>3005.337764</td>\n",
       "      <td>37034.425389</td>\n",
       "    </tr>\n",
       "    <tr>\n",
       "      <th>75%</th>\n",
       "      <td>30915.545611</td>\n",
       "      <td>4915.266687</td>\n",
       "      <td>3062.210984</td>\n",
       "      <td>38722.269645</td>\n",
       "    </tr>\n",
       "    <tr>\n",
       "      <th>max</th>\n",
       "      <td>38516.336096</td>\n",
       "      <td>5429.519670</td>\n",
       "      <td>3327.233629</td>\n",
       "      <td>46383.324453</td>\n",
       "    </tr>\n",
       "  </tbody>\n",
       "</table>\n",
       "</div>"
      ],
      "text/plain": [
       "               rent          food     insurance         total\n",
       "count  10000.000000  10000.000000  10000.000000  10000.000000\n",
       "mean   29219.509691   4797.809482   3004.224643  37021.543816\n",
       "std     2532.300418    172.673041     87.221734   2542.267617\n",
       "min    18744.517281   4116.639699   2574.323735  26447.949901\n",
       "25%    27545.387716   4678.877662   2945.270499  35351.052672\n",
       "50%    29244.878069   4797.251203   3005.337764  37034.425389\n",
       "75%    30915.545611   4915.266687   3062.210984  38722.269645\n",
       "max    38516.336096   5429.519670   3327.233629  46383.324453"
      ]
     },
     "execution_count": 140,
     "metadata": {},
     "output_type": "execute_result"
    }
   ],
   "source": [
    "prediction_df.describe()\n"
   ]
  },
  {
   "cell_type": "markdown",
   "metadata": {},
   "source": [
    "### NYC Annual Cost Histogram Histogram"
   ]
  },
  {
   "cell_type": "code",
   "execution_count": 141,
   "metadata": {},
   "outputs": [
    {
     "data": {
      "image/png": "[encoded data removed]",
      "text/plain": [
       "<Figure size 432x288 with 1 Axes>"
      ]
     },
     "metadata": {
      "needs_background": "light"
     },
     "output_type": "display_data"
    }
   ],
   "source": [
    "prediction_df.total.plot.hist(grid=True, bins=20, rwidth=0.9,\n",
    "                   color='#607c8e')\n",
    "plt.xlabel('Annual Total Costs Price USD')\n",
    "plt.ylabel('Frequency')\n",
    "plt.grid(axis='y', alpha=0.75)"
   ]
  },
  {
   "cell_type": "markdown",
   "metadata": {},
   "source": [
    "### NYC: Calculating the Confidence Interval For Total Costs\n",
    "\n",
    "The data is nearly normal. Greater samples sizes would produce a graph of nearly perfect normality"
   ]
  },
  {
   "cell_type": "code",
   "execution_count": 142,
   "metadata": {},
   "outputs": [
    {
     "data": {
      "text/plain": [
       "(36979.727235126586, 37063.36039733022)"
      ]
     },
     "execution_count": 142,
     "metadata": {},
     "output_type": "execute_result"
    }
   ],
   "source": [
    "\n",
    "st.norm.interval(alpha=0.90, loc=np.mean(prediction_df.total), scale=st.sem(prediction_df.total))"
   ]
  },
  {
   "cell_type": "markdown",
   "metadata": {},
   "source": [
    "### NYC Annual Rent Histogram Histogram\n"
   ]
  },
  {
   "cell_type": "code",
   "execution_count": 143,
   "metadata": {},
   "outputs": [
    {
     "data": {
      "image/png": "[encoded data removed]",
      "text/plain": [
       "<Figure size 432x288 with 1 Axes>"
      ]
     },
     "metadata": {
      "needs_background": "light"
     },
     "output_type": "display_data"
    }
   ],
   "source": [
    "### Annual Cost Histogram Histogram\n",
    "prediction_df.rent.plot.hist(grid=True, bins=20, rwidth=0.9,\n",
    "                   color='#607c8e')\n",
    "plt.title('Annual Rent Cost Distribution ')\n",
    "plt.xlabel('Annual Rent Costs Price USD')\n",
    "plt.ylabel('Frequency')\n",
    "plt.grid(axis='y', alpha=0.75)"
   ]
  },
  {
   "cell_type": "markdown",
   "metadata": {},
   "source": [
    "### Calculating the Confidence Interval For Annual Rent\n",
    "\n",
    "The data is nearly normal. Greater samples sizes would produce a graph of nearly perfect normality"
   ]
  },
  {
   "cell_type": "code",
   "execution_count": 144,
   "metadata": {},
   "outputs": [
    {
     "data": {
      "text/plain": [
       "(29169.877514702926, 29269.14186706609)"
      ]
     },
     "execution_count": 144,
     "metadata": {},
     "output_type": "execute_result"
    }
   ],
   "source": [
    "\n",
    "st.norm.interval(alpha=0.95, loc=np.mean(prediction_df.rent), scale=st.sem(prediction_df.rent))"
   ]
  },
  {
   "cell_type": "markdown",
   "metadata": {},
   "source": [
    "## NYC Closing Remarks. \n",
    "\n",
    "The Rent distribution in NYC with 2018 data is actually nearly comparible to my houston estimate.  An annual salary of 90,000 would permit me to live at about the median level in the city.  I will be redoing this report soon as the data is old.  I am currently scraping data in houston and nyc to produce a better analysis. "
   ]
  },
  {
   "cell_type": "markdown",
   "metadata": {},
   "source": [
    "## Imports"
   ]
  },
  {
   "cell_type": "code",
   "execution_count": 145,
   "metadata": {},
   "outputs": [],
   "source": [
    "import pandas as pd\n",
    "import matplotlib.pyplot as plt\n",
    "import numpy as np\n",
    "import scipy.stats as st\n",
    "from shapely.geometry import Point\n",
    "from numpy.random import choice\n",
    "import warnings\n",
    "\n",
    "warnings.filterwarnings('ignore')\n"
   ]
  }
 ],
 "metadata": {
  "kernelspec": {
   "display_name": "venv",
   "language": "python",
   "name": "venv"
  },
  "language_info": {
   "codemirror_mode": {
    "name": "ipython",
    "version": 3
   },
   "file_extension": ".py",
   "mimetype": "text/x-python",
   "name": "python",
   "nbconvert_exporter": "python",
   "pygments_lexer": "ipython3",
   "version": "3.9.12"
  },
  "orig_nbformat": 4
 },
 "nbformat": 4,
 "nbformat_minor": 2
}
